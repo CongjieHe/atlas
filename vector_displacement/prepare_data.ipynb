{
 "cells": [
  {
   "cell_type": "code",
   "execution_count": 13,
   "metadata": {},
   "outputs": [],
   "source": [
    "import numpy as np\n",
    "import os.path as osp\n",
    "import random\n",
    "import math"
   ]
  },
  {
   "cell_type": "code",
   "execution_count": 2,
   "metadata": {},
   "outputs": [],
   "source": [
    "dir_path = \"/mnt/data/hcj/atlas/corpora/wiki/enwiki-dec2018\"\n",
    "file_name_1 = \"infobox.jsonl\"\n",
    "file_name_2 = \"text-list-100-sec.jsonl\""
   ]
  },
  {
   "cell_type": "code",
   "execution_count": 5,
   "metadata": {},
   "outputs": [],
   "source": [
    "with open(osp.join(dir_path,file_name_1), encoding=\"utf-8\") as f:\n",
    "    lines_1 = f.readlines()"
   ]
  },
  {
   "cell_type": "code",
   "execution_count": 14,
   "metadata": {},
   "outputs": [],
   "source": [
    "infobox_sampled = random.sample(lines_1, math.ceil(0.2*len(lines_1))) "
   ]
  },
  {
   "cell_type": "code",
   "execution_count": 9,
   "metadata": {},
   "outputs": [],
   "source": [
    "with open(osp.join(dir_path,file_name_2), encoding=\"utf-8\") as f:\n",
    "    lines_2 = f.readlines()"
   ]
  },
  {
   "cell_type": "code",
   "execution_count": 15,
   "metadata": {},
   "outputs": [],
   "source": [
    "text_sampled = random.sample(lines_2, math.ceil(0.2*len(lines_2)))"
   ]
  },
  {
   "cell_type": "code",
   "execution_count": 19,
   "metadata": {},
   "outputs": [],
   "source": [
    "with open (osp.join(dir_path,\"infobox_sampled.jsonl\"), \"w\") as f:\n",
    "    f.writelines(infobox_sampled)"
   ]
  },
  {
   "cell_type": "code",
   "execution_count": 23,
   "metadata": {},
   "outputs": [],
   "source": [
    "with open (osp.join(dir_path,\"text-list-100-sec_sampled.jsonl\"), \"w\") as f:\n",
    "    f.writelines(text_sampled)"
   ]
  }
 ],
 "metadata": {
  "kernelspec": {
   "display_name": "atlas",
   "language": "python",
   "name": "python3"
  },
  "language_info": {
   "codemirror_mode": {
    "name": "ipython",
    "version": 3
   },
   "file_extension": ".py",
   "mimetype": "text/x-python",
   "name": "python",
   "nbconvert_exporter": "python",
   "pygments_lexer": "ipython3",
   "version": "3.8.0"
  },
  "orig_nbformat": 4
 },
 "nbformat": 4,
 "nbformat_minor": 2
}
